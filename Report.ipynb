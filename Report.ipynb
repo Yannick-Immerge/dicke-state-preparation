{
 "cells": [
  {
   "cell_type": "markdown",
   "id": "c4570f2bbdb0c8b4",
   "metadata": {},
   "source": [
    "# Producing the Dicke States on a Quantum Computer\n",
    "\n",
    "In the following a quantum circuit to produce the _Qubit Dicke States_ will be described. The theoretical derivation is heavily guided by the paper [\"Dicke States as matrix product states\"](https://arxiv.org/abs/2408.04729) by D. Raveh and R. I. Nepomechie. The final circuit implementation (that is also the one shown in the aforementioned paper) is derived from [\"Deterministic Preparation of Dicke States\"](https://arxiv.org/abs/1904.07358) by A. Bärtschi and S. Eidenbenz."
   ]
  },
  {
   "cell_type": "code",
   "execution_count": 1,
   "id": "94a2ef168afcfcc",
   "metadata": {
    "ExecuteTime": {
     "end_time": "2024-12-03T15:55:26.544364Z",
     "start_time": "2024-12-03T15:55:25.787803Z"
    }
   },
   "outputs": [],
   "source": [
    "import matplotlib.pyplot as plt\n",
    "import numpy as np\n",
    "from qiskit import QuantumCircuit\n",
    "from qiskit.circuit.library import RYGate\n",
    "\n",
    "from src.cnry import append_toffoli, append_cnx, append_cnry\n",
    "from src.dicke import append_i_operator, append_u_operator, create_dicke_circuit, create_inc_unitary, \\\n",
    "    jupyter_produce_counts\n",
    "from src.utility import DecompositionTargets\n",
    "from tests.integration.test_dicke_prep import jupyter_test_status"
   ]
  },
  {
   "cell_type": "markdown",
   "id": "5b83b178b0025882",
   "metadata": {},
   "source": [
    "## The Dicke States\n",
    "While generalizable to arbitrary $d$-level qudit systems, we will focus on the Dicke states for qubit ($d=2$) systems here. A $n$-qubit system is fully described by a statevector $| \\psi \\rangle$ in a hilbert space $\\mathcal{H}_n = (\\mathbb{C}^2)^{\\otimes n}$.\n",
    "\n",
    "From the properties of the tensor product follows that this is of course a complex vector space with $2^n$ basis vectors. We can write this as $\\mathcal{B} = \\{ | k \\rangle \\ : \\ k = 0, \\dots 2^n - 1\\}$. The basis of two makes it particularly useful to write these basis states as binary numbers:\n",
    "$$\n",
    "| k \\rangle = | k_n \\ \\dots \\ k_1 \\rangle = | k_n \\rangle \\otimes \\cdots \\otimes | k_1 \\rangle \\qquad k_i \\in \\mathbb{F}_2 \\qquad k = \\sum_{i=1}^{n} k_i * 2^{i-1}\n",
    "$$\n",
    "\n",
    "In this representation it makes sense to introduce the _hamming weight_ of such a basis state as:\n",
    "$$\n",
    "\\omega: \\mathcal{B} \\rightarrow \\mathbb{N}_0, \\qquad | k_{n} \\ \\dots \\ k_1 \\rangle \\mapsto \\#_1(\\{ k_i \\ : \\ i = 1, \\dots, n \\})\n",
    "$$\n",
    "\n",
    "The Dicke states are a family of statevectors parameterized by the system size $n$ and some parameter $k \\in [0, n]$. For concrete values of $n$ and $k$ the Dicke state is the equal superposition of all $n$-qubit basis states with hamming weight $k$ and is denoted with $|D^n_k \\rangle$. More formally:\n",
    "$$\n",
    "\\begin{align}\n",
    "\\Omega_k &= \\{| j \\rangle \\in \\mathcal{B} \\ : \\ \\omega(| j \\rangle) = k \\} \\qquad M_k = | \\Omega_k |\\\\\n",
    "| D^n_k \\rangle &= {1 \\over \\sqrt{M_k}} \\sum_{| j \\rangle \\in \\Omega_k} | j \\rangle\n",
    "\\end{align}\n",
    "$$\n",
    "\n",
    "The goal in this work is to design a parameterized preparation gate $\\mathcal{U}_{n, k}$ that produces the Dicke states from an initial system $| \\psi_\\text{init} \\rangle = | 0 \\rangle$. This gate may of course require some ancilla qubits, resulting in:\n",
    "$$\n",
    "\\mathcal{U}_{n, k} \\ : \\ | 0 \\rangle_\\text{aux} \\otimes | 0 \\rangle_n \\mapsto | \\xi \\rangle_\\text{aux} \\otimes | D^n_k \\rangle\n",
    "$$"
   ]
  },
  {
   "cell_type": "markdown",
   "id": "cbc1ebc75a5ca839",
   "metadata": {},
   "source": [
    "## Matrix Product States\n",
    "\n",
    "### General\n",
    "Before tackling a concrete implementation for a preparation gate $\\mathcal{U}_{n, k}$ for the Dicke states, we want to present them in a more manageable form. For this we make use of a technique borrowed from tensor networks, called _Matrix Product States (MPS)_. A matrix product state is an implicit representation of a statevector that requires a _tensor contraction_ to calculate the coefficients. For introductory purposes we assume some boundary conditions are applied, then the MPS of a statevector $| \\psi \\rangle \\in \\mathcal{H}_n$ can be presented as a tensor network:\n",
    "\n",
    "![image](images/mps_no_boundary_condition.png)\n",
    "\n",
    "Notice that there are $n$ tensors $A_j$ locally connected by some so-called _virtual bonds_ and each having an open leg of dimension $2$. We can see that this is just a statevector by grouping all the open legs to a single one and obtaining a tensor with one open leg (i.e. a vector) of dimension $2^n$. A beautiful aspect of the MPS representation is, that we can identify each tensor with a spin-site of our physical system (i.e. a qubit of our quantum computer) and can then \"index\" them using the binary representation of our basis state to get the corresponding coefficient.\n",
    "\n",
    "> **Organization of Qubits:**\n",
    ">\n",
    "> In this work physical sites are arranged in a left-to-right order, where the rightmost site refers to the _most significant bit (MSB)_ of the binary representation of the basis state. Qubits on the other hands are organized top-to-bottom, where the last qubit refers to the MSB of the basis state.\n",
    "\n",
    "The contractions can also be written symbolically. For this we write $A^{k_j}_j$ for the projection of the tensor $A_j$ where $k_j \\in \\mathbb{F}_2$ is fixed for the open leg (analogous to applying the binary representation of a basis state $| k \\rangle$). Effectively we are removing the open legs from the network and are left with a single complex number when fully contracted - the coefficient of the basis state. We can write:\n",
    "$$\n",
    "| \\psi \\rangle = \\sum_k A^{k_n}_n \\ \\cdots \\ A^{k_1}_1 | k \\rangle\n",
    "$$\n",
    "The product in the summation has to be interpreted as a contraction, i.e. the dot-/matrix-vector-/matrix-matrix-product depending on the operands. Specifically $A^{k_n}_n$ is a row vector, $A^{k_1}_1$ is a column vector and the other tensors are all matrices. The dimensions are of course determined by the dimension of the virtual bonds $\\chi_j$.\n"
   ]
  },
  {
   "cell_type": "markdown",
   "id": "f814b347af560845",
   "metadata": {},
   "source": [
    "### Introducing Boundary Conditions\n",
    "In the previous description the tensors at the border sites had a different form (i.e. lower degree). We can avoid this by introducing left and right boundary conditions. These are just two mre open legs at the two endpoints of the MPS making all the $A_j$ tensors of degree $3$. Their dimension can be chosen arbitrarily, just like the virtual bond dimensions, and are denoted by $\\chi_0, \\chi_{n + 1}$. The resulting network looks as follows:\n",
    "\n",
    "![image](images/mps_with_boundary_condition.png)\n",
    "\n",
    "In this case applying a binary representation of a basis state does no longer lead to a single complex number, but rather to a tensor with to open legs. Of course  this is expected as no boundary conditions have been applied yet. We realize that the MPS now describes an entire family of states, parameterized by a bra vector $\\langle \\bar{L} |$ and a ket vector $| \\bar{R} \\rangle$. Note that the Bra-Ket notation is chosen because of the interpretation of the contracted network as a matrix. It also matches the notation used in the aforementioned papers. The final symbolic form of the MPS becomes:\n",
    "$$\n",
    "| \\psi \\rangle = \\sum_k (\\langle \\bar{L} | A^{k_n}_n \\ \\cdots \\ A^{k_1}_1 | \\bar{R} \\rangle) | k \\rangle\n",
    "$$\n",
    "\n",
    "Here $| \\psi \\rangle$ is a concrete statevector resulting from applying the boundary conditions $\\langle \\bar{L} |$ and $| \\bar{R} \\rangle$ to the MPS. Note that a representation as an MPS with some boundary conditions exists for every statevector $| \\psi \\rangle$ when the maximum virtual bond dimension $\\chi = \\max_{j} \\chi_j$ is chosen large enough. The smallest value for $\\chi$ is called the _Schmidt rank_. From now on we will assume that all other virtual bond dimensions are extended to $\\chi$ and all $A^{k_j}_j$ have dimension $\\chi \\times \\chi$."
   ]
  },
  {
   "cell_type": "markdown",
   "id": "bdaaa14a7e6dcabf",
   "metadata": {},
   "source": [
    "### Canonical Form and Preparation\n",
    "We are specifically interested in the canonical form of the MPS, which will help us to prepare $| \\psi \\rangle$ on a quantum computer. An MPS is called _canonical_\n",
    "(more accurately _left canonical_) when:\n",
    " $$\n",
    " \\sum_{m \\in \\mathbb{F}_2} A_j^{m \\dagger} A_j^m = \\mathbb{1} \\qquad \\text{for all} \\ A_j\n",
    " $$\n",
    "\n",
    "The deciding property of such a canonical MPS is, that there always exists a unitary $U_j$ operating on a single auxiliary qudit $| \\bar{\\phi} \\rangle$ (with $\\chi$ levels) and a qubit such that:\n",
    "$$\n",
    "U_j (| \\bar{\\phi} \\rangle \\otimes | 0 \\rangle) = \\sum_{m \\in \\mathbb{F}_2} (A_j^m| \\bar{\\phi} \\rangle) | m \\rangle \\qquad \\text{for all} \\ | \\bar{\\phi} \\rangle\n",
    "$$\n",
    "\n",
    "We now extend the $U_j$ to operate on the entire $n$-qubit system, leaving all qubits invariant but the one at site $j$. When we chain unitary operators and apply them to the state $| \\bar{R} \\rangle^{\\otimes n}$ we obtain:\n",
    "$$\n",
    "U_n \\cdots U_1 (| \\bar{R} \\rangle \\otimes | 0 \\rangle^{\\otimes n}) = \\sum_k (A_n^{k_n} \\cdots A_1^{k_1} | \\bar{R} \\rangle) \\otimes | k \\rangle = | \\bar{L} \\rangle \\otimes | \\psi \\rangle\n",
    "$$\n",
    "\n",
    "The only additional assumption for the above equality is, that the ancilla qudit decouples from the $n$-qubit system. This is the case for the MPS we discuss here.\n",
    "\n",
    "One can see how the unitary chain above allows us to prepare pretty much any MPS on a quantum computer when we are able to:\n",
    "+ Produce the right boundary condition state $| \\bar{R} \\rangle$\n",
    "+ Emulate a $\\chi$-level qudit on our two-state quantum computer.\n",
    "\n",
    "These points will be discussed later. For now, we only have to find an MPS representation for the Dicke States."
   ]
  },
  {
   "cell_type": "markdown",
   "id": "2b8f0123e1c62dd",
   "metadata": {},
   "source": [
    "## Application to Dicke States\n",
    "\n",
    "### MPS Form of Dicke States\n",
    "We leave out the derivation and immediately state the MPS form as given in the paper. Note that the virtual bond dimension for such a Dicke MPS is given by $\\chi = k + 1$. We have:\n",
    "$$\n",
    "| D^n_k \\rangle = \\sum_m (\\langle \\bar{k} | A_n^{m_n} \\cdots A_1^{m_1} | \\bar{0} \\rangle) \\otimes | m \\rangle\n",
    "$$\n",
    "\n",
    "Where the $A_j^{m_j}$ are of course $(\\chi + 1) \\times (\\chi + 1)$-matrices with entries given by:\n",
    "$$\n",
    "(A_{j}^{m})_{r, s} = { c(n, k, j, s + m) * c(j, s + m, j - 1, s) \\over c(n, k, j - 1, s) } \\delta_{r, s + m}\n",
    "$$\n",
    "\n",
    "Here $c(n, k, i, j)$ refers to the _hypergeometric distribution_ given by:\n",
    "$$\n",
    "c(n, k, i, j) = \\sqrt{\\binom{i}{j} \\binom{n - i}{k - j} \\over \\binom{n}{k}}\n",
    "$$\n",
    "\n",
    "Strictly speaking this MPS is not canonical in the sense $\\sum_m A_j^{m\\dagger} A_j^m = \\mathbb{1}$, but it is close enough to canonical that there are still unitary matrices $U_j$ to prepare it, following the procedure for canonical MPS."
   ]
  },
  {
   "cell_type": "markdown",
   "id": "effe19ef8c876665",
   "metadata": {},
   "source": [
    "### Construction of the Unitary Operators\n",
    "We follow the paper once again and make the ansatz, that the unitary operators for the MPS can be written as a product of simpler operators:\n",
    "$$\n",
    "U_j = \\prod_{l=k}^{0} I_l^{(j)} = \\prod_{l = \\min(j-1, k-1)}^{\\max(0, j - n + k + 1)} I_l^{(j)}\n",
    "$$\n",
    "\n",
    "We describe $I_l^{(j)}$ by describing the wanted action on the subsystem including the ancilla qudit and the qubit at site j:\n",
    "$$\n",
    "I^{(j)}_l |\\bar{\\psi}\\rangle |0 \\rangle_j = \\begin{cases}\n",
    "\\sum_m (A^m_j | \\bar{\\psi} \\rangle) | m \\rangle_j & \\text{if } \\psi = l \\\\\n",
    "|\\bar{\\psi}\\rangle | 0 \\rangle & \\text{else.}\n",
    "\\end{cases}\n",
    "$$\n",
    "\n",
    "An example for a quantum circuit that has all the desired properties is given by:\n",
    "\n",
    "![image](images/i_j_l_circuit.png)\n",
    "\n",
    "In this circuit $\\oplus, \\ominus$ refer to an increment/decrement by $1$ taken modulus $\\chi$. The rotation gate is controlled if the auxiliary qudit is in state $|\\overline{l + 1 \\ \\mod \\chi}\\rangle$. The rotation angle is given by:\n",
    "$$\n",
    "\\begin{align}\n",
    "\\theta &= 2 * \\arccos \\gamma^{(j)}_{(l \\  \\text{mod} \\ \\chi), 0} \\\\\n",
    "\\gamma^{(j)}_{r, 0} &= \\begin{cases}\n",
    "    \\sqrt{1 + {(r-k) \\over n - j + 1}} & \\text{if} \\quad k - r \\le n - j + 1, \\\\\n",
    "    0 & \\text{else.}\n",
    "\\end{cases}\n",
    "\\end{align}\n",
    "$$\n",
    "\n",
    "Using the product at the beginning of this section we can assemble a circuit for all the unitary $U_j$. Then all that is left to do, is to assemble these unitary operators into the final operator $\\mathcal{U}_{n, k} = U_n \\cdots U_1$ that fulfills:\n",
    "$$\n",
    "\\mathcal{U}_{n, k} (|\\bar{0} \\rangle \\otimes | 0 \\rangle^{\\otimes n}) = | \\bar{k} \\rangle \\otimes | D^n_k \\rangle\n",
    "$$\n"
   ]
  },
  {
   "cell_type": "markdown",
   "id": "e6103fdd9c2521ee",
   "metadata": {},
   "source": [
    "## Qiskit Implementation\n",
    "\n",
    "### Qudit Emulation\n",
    "As mentioned earlier we still have to take care of the $\\chi$-level qudit, assuming we are working on a qubit-only quantum computer. This is not really a problem though because we can just use a register with $t = \\lceil \\log_2 \\chi \\rceil$ qubits to emulate the qudit. This register has $2^t$ basis states, of which we can identify the first $\\chi$ with the basis states of the qudit. Every unitary operation $U$ on the qudit can now be emulated by applying an extended version $U^\\ast$ to the qubit register:\n",
    "$$\n",
    "U^\\ast: | j \\rangle \\ \\mapsto \\ \\begin{cases}\n",
    "    U | j \\rangle & \\text{if} \\quad 0 \\le j < \\chi, \\\\\n",
    "    | j \\rangle & \\text{else.}\n",
    "\\end{cases}\n",
    "$$\n",
    "\n",
    "> In the special case of a single-level qudit (i.e. $k = 0$) the value for $t$ becomes $0$. This makes sense, as the physical system is trivial (the qudit only contains a non-physical phase factor) but is impractical for the construction algorithm later. We thus chose $t = \\max(1, \\lceil \\log_2 \\chi \\rceil )$."
   ]
  },
  {
   "cell_type": "markdown",
   "id": "71cd9bc7bcfed4be",
   "metadata": {},
   "source": [
    "### Increment/Decrement Operator\n",
    "The first components that will be implemented are the $\\oplus$ (increment) and $\\ominus$ (decrement) gates. These operate on the emulated qudit and thus need to be extended as described earlier. We will use the `QuantumCircuit.unitary(...)` operation to directly construct the circuit of the gate from the extended unitary matrix $U_\\oplus^\\ast$. The qudit operation $U_\\oplus$ used is given by:\n",
    "$$\n",
    "U_\\oplus \\ : \\ | \\bar{j} \\rangle \\mapsto | \\overline{j + 1 \\mod \\chi} \\rangle\n",
    "$$\n",
    "\n",
    "And of course we have $U_\\ominus = U_\\oplus^\\dagger$. The following is an example of $U_\\oplus$ for $\\chi = 5$:"
   ]
  },
  {
   "cell_type": "code",
   "execution_count": 2,
   "id": "713be2958b861b63",
   "metadata": {
    "ExecuteTime": {
     "end_time": "2024-12-03T15:55:26.551876Z",
     "start_time": "2024-12-03T15:55:26.549368Z"
    }
   },
   "outputs": [
    {
     "name": "stdout",
     "output_type": "stream",
     "text": [
      "[[0 0 0 0 1 0 0 0]\n",
      " [1 0 0 0 0 0 0 0]\n",
      " [0 1 0 0 0 0 0 0]\n",
      " [0 0 1 0 0 0 0 0]\n",
      " [0 0 0 1 0 0 0 0]\n",
      " [0 0 0 0 0 1 0 0]\n",
      " [0 0 0 0 0 0 1 0]\n",
      " [0 0 0 0 0 0 0 1]]\n"
     ]
    }
   ],
   "source": [
    "print(create_inc_unitary(5, invert=False).real.astype(int))"
   ]
  },
  {
   "cell_type": "markdown",
   "id": "9f256480ba865723",
   "metadata": {},
   "source": [
    "We can see how this unitary is pretty much just an instance of a permutation matrix, that only \"rotates\" the first $5$ basis states and leaves the $3$ unused basis states invariant."
   ]
  },
  {
   "cell_type": "markdown",
   "id": "aa0a9e39152615fa",
   "metadata": {},
   "source": [
    "### $I$ Operator\n",
    "The $I_l^{(j)}$ operator is described in the aforementioned papers to be implemented using a controlled $y$-Rotation and controlled versions of $\\oplus$ and $\\ominus$. It operates on one system qubit at site $j$ and the auxiliary qudit. In the paper $R(\\theta)$ is dependent on the qudit value. As the gate is active only when the qudit is in state $| \\overline{l + 1 \\mod \\chi} \\rangle$ we can just fix $\\theta_l = 2 * \\arccos(\\gamma_{l, 0}^{j})$.\n",
    "\n",
    "For example choosing $n=2$ system qubits and $k=1$, we require a qudit with $\\chi = 2$ levels (i.e. a sigle third qubit) and obtain:"
   ]
  },
  {
   "cell_type": "code",
   "execution_count": 3,
   "id": "1b8b64a2f9b0df2b",
   "metadata": {
    "ExecuteTime": {
     "end_time": "2024-12-03T15:55:26.873806Z",
     "start_time": "2024-12-03T15:55:26.632618Z"
    }
   },
   "outputs": [
    {
     "data": {
      "image/png": "[encoded data removed]",
      "text/plain": [
       "<Figure size 1000x500 with 2 Axes>"
      ]
     },
     "metadata": {},
     "output_type": "display_data"
    }
   ],
   "source": [
    "circuit_l_0 = QuantumCircuit(3)\n",
    "circuit_l_1 = QuantumCircuit(3)\n",
    "append_i_operator(circuit_l_0, 0, 1, [0, 1], [2], 2, -1, -1)\n",
    "append_i_operator(circuit_l_1, 1, 1, [0, 1], [2], 2, -1, -1)\n",
    "\n",
    "fig, axes = plt.subplots(1, 2, figsize=(10, 5))\n",
    "\n",
    "# Draw the first circuit\n",
    "circuit_l_0.draw(output='mpl', ax=axes[0])\n",
    "axes[0].set_title(\"Circuit 1: $I_0^{(1)}$ with $\\\\theta_0=\\\\pi / 2$\")\n",
    "\n",
    "# Draw the second circuit\n",
    "circuit_l_1.draw(output='mpl', ax=axes[1])\n",
    "axes[1].set_title(\"Circuit 2: $I_1^{(1)}$ with $\\\\theta_1=0$\")\n",
    "\n",
    "plt.show()"
   ]
  },
  {
   "cell_type": "markdown",
   "id": "c62f02b2a6a87758",
   "metadata": {},
   "source": [
    "Note, that the right circuit simplifies to $\\mathbb{1}$ and has no effect. That is why the product making up the $U_j$ operators can be restricted."
   ]
  },
  {
   "cell_type": "markdown",
   "id": "9db4e16b93b1d3e0",
   "metadata": {},
   "source": [
    "### $U$ Operator\n",
    "The $U_j$ operators are just products of $I^{(j)}_l$ operators for a restricted range of $l$ (as described above). Keeping the values as in the previous example, we get the following circuit for system site $j = 1$:"
   ]
  },
  {
   "cell_type": "code",
   "execution_count": 4,
   "id": "faaed56a35f06b2a",
   "metadata": {
    "ExecuteTime": {
     "end_time": "2024-12-03T15:55:27.006690Z",
     "start_time": "2024-12-03T15:55:26.884718Z"
    }
   },
   "outputs": [
    {
     "data": {
      "image/png": "[encoded data removed]",
      "text/plain": [
       "<Figure size 1000x500 with 2 Axes>"
      ]
     },
     "metadata": {},
     "output_type": "display_data"
    }
   ],
   "source": [
    "circuit_j_1 = QuantumCircuit(3)\n",
    "circuit_j_2 = QuantumCircuit(3)\n",
    "append_u_operator(circuit_j_1, 1, [0, 1], [2], 2, -1, -1)\n",
    "append_u_operator(circuit_j_2, 2, [0, 1], [2], 2, -1, -1)\n",
    "\n",
    "fig, axes = plt.subplots(1, 2, figsize=(10, 5))\n",
    "\n",
    "# Draw the first circuit\n",
    "circuit_j_1.draw(output='mpl', ax=axes[0])\n",
    "axes[0].set_title(\"Circuit 1: $U_1$\")\n",
    "\n",
    "circuit_j_2.draw(output='mpl', ax=axes[1])\n",
    "axes[1].set_title(\"Circuit 2: $U_2$\")\n",
    "\n",
    "plt.show()"
   ]
  },
  {
   "cell_type": "markdown",
   "id": "4e3f4b87e21fc212",
   "metadata": {},
   "source": [
    "### $\\mathcal{U}$ Operator\n",
    "All that is left is to show the implementation of the entire preparation operator $\\mathcal{U}^n_k$. This is just the product of the local $U_j$ operators for each system site $j$. Keeping the exemplary parameters from before, the circuit to prepare $| D^2_1 \\rangle$ is:"
   ]
  },
  {
   "cell_type": "code",
   "execution_count": 5,
   "id": "5bde3c90dbf0bece",
   "metadata": {
    "ExecuteTime": {
     "end_time": "2024-12-03T15:55:27.093294Z",
     "start_time": "2024-12-03T15:55:27.009696Z"
    }
   },
   "outputs": [
    {
     "data": {
      "image/png": "[encoded data removed]",
      "text/plain": [
       "<Figure size 800x500 with 1 Axes>"
      ]
     },
     "metadata": {},
     "output_type": "display_data"
    }
   ],
   "source": [
    "circuit = create_dicke_circuit(2, 1)\n",
    "\n",
    "fig, axes = plt.subplots(1, 1, figsize=(8, 5))\n",
    "\n",
    "# Draw the first circuit\n",
    "circuit.draw(output='mpl', ax=axes)\n",
    "axes.set_title(\"Circuit for $\\\\mathcal{U}^2_1$\")\n",
    "\n",
    "plt.show()"
   ]
  },
  {
   "cell_type": "markdown",
   "id": "4ab27ff5c0deb434",
   "metadata": {},
   "source": [
    "## Circuit Specification\n",
    "\n",
    "### Verification\n",
    "The tests in `tests.integration.test_dicke_prep.py` perform a brute force verification for all $0 < n < 5$ and possible respective values for $k$. The following field will fail display whether all tests pass:"
   ]
  },
  {
   "cell_type": "code",
   "execution_count": 6,
   "id": "9ff60aa7bf582007",
   "metadata": {
    "ExecuteTime": {
     "end_time": "2024-12-03T15:55:28.446897Z",
     "start_time": "2024-12-03T15:55:27.101986Z"
    }
   },
   "outputs": [
    {
     "data": {
      "text/plain": [
       "'SUCCESS: The Dicke States are produced correctly!'"
      ]
     },
     "execution_count": 6,
     "metadata": {},
     "output_type": "execute_result"
    }
   ],
   "source": [
    "jupyter_test_status()"
   ]
  },
  {
   "cell_type": "markdown",
   "id": "3fbabbcb3e16c90a",
   "metadata": {},
   "source": [
    "### Circuit Depth\n",
    "The paper presents a closed form for the layer-depth of the circuit in terms of controlled $\\oplus$, $\\ominus$ and $R_y$ gates. It is given by:\n",
    " $$\n",
    " n_\\text{layers} = 3 k (n + 1 - k)\n",
    " $$\n",
    "\n",
    "For the example above, this yields $n_\\text{layers} = 3 * 1 * (2 + 1 - 1) = 3 * 2 = 6$ as expected. Depending on the architecture the mentioned gate set might not be primitive though. In the following paragraph we discuss implementations of the operators with a more common primitive gate set and the resulting depth of the circuit."
   ]
  },
  {
   "cell_type": "markdown",
   "id": "87734bc79a93e057",
   "metadata": {},
   "source": [
    "### Qubit Count\n",
    "The number of required qubits is simply the number of system qubits $n$ plus the number of qubits $t$, that are required to emulate the qudit. All in all we get:\n",
    "$$\n",
    "n_\\text{qubits} = n + \\max(1, \\lceil \\log_2 k + 1 \\rceil)\n",
    "$$"
   ]
  },
  {
   "cell_type": "markdown",
   "id": "1d789395eba18753",
   "metadata": {},
   "source": [
    "## Simple Gate Implementation\n",
    "\n",
    "### Primitive Gate Set\n",
    "In the following sections the implementation of the Dicke preparation operator $\\mathcal{U}^n_k$ using a restricted set of gates is discussed. A primitive gate set is a set of operators that can be implemented physically on a quantum computer. Every operation has to decomposable into a combination of primitive gates to be executable on a quantum computer. The complete primitive gate set chosen for the following analysis is:\n",
    "$$\n",
    "\\mathcal{G} = \\{ X, H, T, T^\\dagger, cX, cR_Y(\\theta) \\}\n",
    "$$\n",
    "\n",
    "This set is complete and is not even minimal in an algebraic sense. But as many platforms support all of these operations natively this choice of primitive gates is senseful and keeps the circuit depth reasonable.\n",
    "\n",
    "### Multi-Controlled $R_Y$ Gates\n",
    "We need a multi-controlled rotation around the $y$-axis, denoted as $c^nR_Y$ multiple times in the circuit. We will construct this in steps.\n",
    "\n",
    "First we utilize a common decomposition of the Toffoli gate for $c^2X$:\n"
   ]
  },
  {
   "cell_type": "code",
   "execution_count": 7,
   "id": "f537b9dccaab90e9",
   "metadata": {
    "ExecuteTime": {
     "end_time": "2024-12-03T15:55:28.528095Z",
     "start_time": "2024-12-03T15:55:28.455601Z"
    }
   },
   "outputs": [
    {
     "data": {
      "image/png": "[encoded data removed]",
      "text/plain": [
       "<Figure size 1040x284.278 with 1 Axes>"
      ]
     },
     "execution_count": 7,
     "metadata": {},
     "output_type": "execute_result"
    }
   ],
   "source": [
    "toffoli_circuit = QuantumCircuit(3)\n",
    "append_toffoli(toffoli_circuit, 0, 1, 2, DecompositionTargets.TOFFOLI)\n",
    "toffoli_circuit.draw(\"mpl\")"
   ]
  },
  {
   "cell_type": "markdown",
   "id": "b2a63e051ad05951",
   "metadata": {},
   "source": [
    "For the sake of brevity we will just denote the Toffoli gate as an $X$ gate with two controls in the upcoming circuits. Keep in mind that these are not primitive though.\n",
    "\n",
    "The next step is to construct a general $c^nX$ gate. There are methods to do this in-place (i.e. using only the control qubits and target qubit involved) but we will use an approach requiring a single clean ancilla qubit to reduce circuit depth and complexity. The approach is borrowed from [\"Almost-Optimal Computational Basis State Transpositions\"](https://arxiv.org/pdf/2309.12820) by S. Herbert, J. Sorci, Y. Tang. The circuit is built in two steps, splitting the control register into two sub-registers $| x \\rangle$ and $| y \\rangle$. These are displayed here as single qubits, $q_0$ and $q_1$. The target qubit is $q_2$ and the clean ancilla is $q_3$. The following circuit then implements a $c^nX$ gate, requiring a $c^{\\lceil n /2 \\rceil}X$ and $c^{\\lfloor n /2 \\rfloor + 1}X$ gate:"
   ]
  },
  {
   "cell_type": "code",
   "execution_count": 8,
   "id": "b41a9467a8cbc65f",
   "metadata": {
    "ExecuteTime": {
     "end_time": "2024-12-03T15:55:28.588510Z",
     "start_time": "2024-12-03T15:55:28.536550Z"
    }
   },
   "outputs": [
    {
     "data": {
      "image/png": "[encoded data removed]",
      "text/plain": [
       "<Figure size 371.107x367.889 with 1 Axes>"
      ]
     },
     "execution_count": 8,
     "metadata": {},
     "output_type": "execute_result"
    }
   ],
   "source": [
    "recursive_cnx_circuit = QuantumCircuit(4)\n",
    "recursive_cnx_circuit.cx(0, 3)\n",
    "recursive_cnx_circuit.ccx(1, 3, 2)\n",
    "recursive_cnx_circuit.cx(0, 3)\n",
    "recursive_cnx_circuit.draw(\"mpl\")"
   ]
  },
  {
   "cell_type": "markdown",
   "id": "5aeed9f0d3855772",
   "metadata": {},
   "source": [
    "The paper also discribes the implementation of the $c^{\\lceil n /2 \\rceil}X$ and $c^{\\lfloor n /2 \\rfloor + 1}X$ using the other control qubits as borrowed ancillas. A concrete implementation of a $c^5X$-gate using only Toffoli gates then becomes:"
   ]
  },
  {
   "cell_type": "code",
   "execution_count": 9,
   "id": "f663c0ceac501937",
   "metadata": {
    "ExecuteTime": {
     "end_time": "2024-12-03T15:55:28.755762Z",
     "start_time": "2024-12-03T15:55:28.597833Z"
    }
   },
   "outputs": [
    {
     "data": {
      "image/png": "[encoded data removed]",
      "text/plain": [
       "<Figure size 1123.61x618.722 with 1 Axes>"
      ]
     },
     "execution_count": 9,
     "metadata": {},
     "output_type": "execute_result"
    }
   ],
   "source": [
    "c5x_circuit = QuantumCircuit(7)\n",
    "append_cnx(c5x_circuit, [0, 1, 2, 3, 4], 5, 6, DecompositionTargets.CNX)\n",
    "c5x_circuit.draw(\"mpl\")"
   ]
  },
  {
   "cell_type": "markdown",
   "id": "7dc25580457a2d3f",
   "metadata": {},
   "source": [
    "Having $c^nX$ gates available, it is easy to construct a $c^nR_Y(\\theta)$ gate using an additional ancilla qubit and $cR_Y(\\theta)$. We simple encode the boolean value _Are all control qubits set?_ in the ancilla qubit and use that to control the $R_Y(\\theta)$ gate on the target qubit. This results in the following form for $c^5R_Y(\\pi)$:"
   ]
  },
  {
   "cell_type": "code",
   "execution_count": 10,
   "id": "8e19f3b9d840d5f7",
   "metadata": {
    "ExecuteTime": {
     "end_time": "2024-12-03T15:55:28.845824Z",
     "start_time": "2024-12-03T15:55:28.768867Z"
    }
   },
   "outputs": [
    {
     "data": {
      "image/png": "[encoded data removed]",
      "text/plain": [
       "<Figure size 371.107x618.722 with 1 Axes>"
      ]
     },
     "execution_count": 10,
     "metadata": {},
     "output_type": "execute_result"
    }
   ],
   "source": [
    "c5ry_circuit = QuantumCircuit(7)\n",
    "append_cnry(c5ry_circuit, np.pi, [0, 1, 2, 3, 4], 5, 6, -1, DecompositionTargets.CNRY)\n",
    "c5ry_circuit.draw(\"mpl\")"
   ]
  },
  {
   "cell_type": "markdown",
   "id": "8e2e445680e89987",
   "metadata": {},
   "source": [
    "\n",
    "### Increment/Decrement Operator\n",
    "The first thing we note about the $\\oplus$ and $\\ominus$ gates is, that they provide the wanted functionality as a byproduct. From a functional standpoint we only need to apply a transposition operation to the qudit, switching $| \\bar{l} \\rangle$ with $| \\overline{l + 1 \\mod \\chi} \\rangle$. We do not care about how other basis states are mapped at all, because that mapping will never trigger the control and will be reversed right afterward. The simplest way to achieve this is to just use a series of single qubit $X$ gates at the mismatching positions of the binary representations of the basis states.\n",
    "\n",
    "Let us assume $\\chi = 8$ for example, meaning we are working with $t = 3$ qubits to emulate the qudit. We also assume $l = 3$, so we care about mapping $| 2 \\rangle \\leftrightarrow | 3 \\rangle$ or in binary notation $| 010 \\rangle \\leftrightarrow | 011 \\rangle$. This is most simply achieved by the circuit:"
   ]
  },
  {
   "cell_type": "code",
   "execution_count": 11,
   "id": "629e52fa0f286686",
   "metadata": {
    "ExecuteTime": {
     "end_time": "2024-12-03T15:55:28.891798Z",
     "start_time": "2024-12-03T15:55:28.856794Z"
    }
   },
   "outputs": [
    {
     "data": {
      "image/png": "[encoded data removed]",
      "text/plain": [
       "<Figure size 203.885x284.278 with 1 Axes>"
      ]
     },
     "execution_count": 11,
     "metadata": {},
     "output_type": "execute_result"
    }
   ],
   "source": [
    "transpose_3_4_circuit = QuantumCircuit(3)\n",
    "transpose_3_4_circuit.x(0)\n",
    "transpose_3_4_circuit.draw(\"mpl\")"
   ]
  },
  {
   "cell_type": "markdown",
   "id": "aba20d21ce66ee1b",
   "metadata": {},
   "source": [
    "One can see how we use a single $X$-gate at the LSB this is the only mismatching position.\n",
    "\n",
    "The family of circuits of this form are all its own inverse and will be denoted $\\mathcal{T}_{l, l'}$ for the circuit mapping $| l \\rangle \\leftrightarrow | l' \\rangle$. One can see how we can replace all $\\oplus$ and $\\ominus$ occurences with the respective $\\mathcal{T}_{l, l + 1 \\ \\text{mod} \\ \\chi}$ gates.\n",
    "\n",
    "To get a single-qubit controlled version of a $\\mathcal{T}$ gate, we only need to replace each $X$ gate with a $cX$ that is controlled by the single control qubit."
   ]
  },
  {
   "cell_type": "markdown",
   "id": "4bf935d9232a47c3",
   "metadata": {},
   "source": [
    "### $I$ Operator\n",
    "Using the constructions above, our $I_l^{(j)}$ operators take on a new form. We need to introduce some more $\\mathcal{T}$ gates because we only constructed a $| 1 \\dots 1 \\rangle$-controlled version of $C^nR_y(\\theta)$. Besides that we need to flip the system qubit before applying the controlled $\\mathcal{T}$ gates, because these should be $| 0 \\rangle$-controlled. Taking all this into consideration will result in the following form of $I_l^{(j)}$, where $n = 2$, $k = 1$, $j = 1$, $l = 0$:"
   ]
  },
  {
   "cell_type": "code",
   "execution_count": 12,
   "id": "e44754bf2cbc6c27",
   "metadata": {
    "ExecuteTime": {
     "end_time": "2024-12-03T15:55:28.986944Z",
     "start_time": "2024-12-03T15:55:28.903181Z"
    }
   },
   "outputs": [
    {
     "data": {
      "image/png": "[encoded data removed]",
      "text/plain": [
       "<Figure size 705.552x451.5 with 1 Axes>"
      ]
     },
     "execution_count": 12,
     "metadata": {},
     "output_type": "execute_result"
    }
   ],
   "source": [
    "primitive_i_l_j_circuit = QuantumCircuit(5)\n",
    "n = 2\n",
    "k = 1\n",
    "l = 0\n",
    "append_i_operator(primitive_i_l_j_circuit, l, 1, [0, 1], [2], k + 1, 3, 4, DecompositionTargets.I_OP | DecompositionTargets.CNRY)\n",
    "primitive_i_l_j_circuit.draw(\"mpl\")"
   ]
  },
  {
   "cell_type": "markdown",
   "id": "1c3e4dc14ba1987d",
   "metadata": {},
   "source": [
    "The last qubit is the ancilla for the $c^nX$-gates that is required in the general case."
   ]
  },
  {
   "cell_type": "markdown",
   "id": "f30c1b2d1025717",
   "metadata": {},
   "source": [
    "## Primitive Circuit Complexity\n",
    "\n",
    "### Primitive Gate Counts\n",
    "The following table presents the gate counts for all the gates in $\\mathcal{G}$ for some examples of $|D^n_k\\rangle$-preparation circuits:"
   ]
  },
  {
   "cell_type": "code",
   "execution_count": 13,
   "id": "97bc7b54ea8ceb3f",
   "metadata": {
    "ExecuteTime": {
     "end_time": "2024-12-03T15:55:29.009236Z",
     "start_time": "2024-12-03T15:55:28.999372Z"
    }
   },
   "outputs": [
    {
     "data": {
      "text/html": [
       "<div>\n",
       "<style scoped>\n",
       "    .dataframe tbody tr th:only-of-type {\n",
       "        vertical-align: middle;\n",
       "    }\n",
       "\n",
       "    .dataframe tbody tr th {\n",
       "        vertical-align: top;\n",
       "    }\n",
       "\n",
       "    .dataframe thead th {\n",
       "        text-align: right;\n",
       "    }\n",
       "</style>\n",
       "<table border=\"1\" class=\"dataframe\">\n",
       "  <thead>\n",
       "    <tr style=\"text-align: right;\">\n",
       "      <th></th>\n",
       "      <th>Circuit</th>\n",
       "      <th>X</th>\n",
       "      <th>H</th>\n",
       "      <th>T</th>\n",
       "      <th>T^dg</th>\n",
       "      <th>cX</th>\n",
       "      <th>cR_Y</th>\n",
       "    </tr>\n",
       "  </thead>\n",
       "  <tbody>\n",
       "    <tr>\n",
       "      <th>0</th>\n",
       "      <td>D^2_2</td>\n",
       "      <td>16</td>\n",
       "      <td>8</td>\n",
       "      <td>16</td>\n",
       "      <td>12</td>\n",
       "      <td>30</td>\n",
       "      <td>2</td>\n",
       "    </tr>\n",
       "    <tr>\n",
       "      <th>1</th>\n",
       "      <td>D^3_2</td>\n",
       "      <td>32</td>\n",
       "      <td>16</td>\n",
       "      <td>32</td>\n",
       "      <td>24</td>\n",
       "      <td>60</td>\n",
       "      <td>4</td>\n",
       "    </tr>\n",
       "    <tr>\n",
       "      <th>2</th>\n",
       "      <td>D^3_3</td>\n",
       "      <td>20</td>\n",
       "      <td>12</td>\n",
       "      <td>24</td>\n",
       "      <td>18</td>\n",
       "      <td>44</td>\n",
       "      <td>3</td>\n",
       "    </tr>\n",
       "    <tr>\n",
       "      <th>3</th>\n",
       "      <td>D^5_4</td>\n",
       "      <td>88</td>\n",
       "      <td>96</td>\n",
       "      <td>192</td>\n",
       "      <td>144</td>\n",
       "      <td>316</td>\n",
       "      <td>8</td>\n",
       "    </tr>\n",
       "  </tbody>\n",
       "</table>\n",
       "</div>"
      ],
      "text/plain": [
       "  Circuit   X   H    T  T^dg   cX  cR_Y\n",
       "0   D^2_2  16   8   16    12   30     2\n",
       "1   D^3_2  32  16   32    24   60     4\n",
       "2   D^3_3  20  12   24    18   44     3\n",
       "3   D^5_4  88  96  192   144  316     8"
      ]
     },
     "execution_count": 13,
     "metadata": {},
     "output_type": "execute_result"
    }
   ],
   "source": [
    "jupyter_produce_counts(DecompositionTargets.ALL)"
   ]
  },
  {
   "cell_type": "markdown",
   "id": "6d11d5154e297064",
   "metadata": {},
   "source": [
    "For comparison, these are the gate counts of the abstract gates used in the original definition:"
   ]
  },
  {
   "cell_type": "code",
   "execution_count": 14,
   "id": "8356070b54e4ee33",
   "metadata": {
    "ExecuteTime": {
     "end_time": "2024-12-03T15:57:23.056285Z",
     "start_time": "2024-12-03T15:57:22.916839Z"
    }
   },
   "outputs": [
    {
     "data": {
      "text/html": [
       "<div>\n",
       "<style scoped>\n",
       "    .dataframe tbody tr th:only-of-type {\n",
       "        vertical-align: middle;\n",
       "    }\n",
       "\n",
       "    .dataframe tbody tr th {\n",
       "        vertical-align: top;\n",
       "    }\n",
       "\n",
       "    .dataframe thead th {\n",
       "        text-align: right;\n",
       "    }\n",
       "</style>\n",
       "<table border=\"1\" class=\"dataframe\">\n",
       "  <thead>\n",
       "    <tr style=\"text-align: right;\">\n",
       "      <th></th>\n",
       "      <th>Circuit</th>\n",
       "      <th>c^nR_Y</th>\n",
       "      <th>cInc</th>\n",
       "      <th>cDec</th>\n",
       "    </tr>\n",
       "  </thead>\n",
       "  <tbody>\n",
       "    <tr>\n",
       "      <th>0</th>\n",
       "      <td>D^2_2</td>\n",
       "      <td>2</td>\n",
       "      <td>2</td>\n",
       "      <td>2</td>\n",
       "    </tr>\n",
       "    <tr>\n",
       "      <th>1</th>\n",
       "      <td>D^3_2</td>\n",
       "      <td>4</td>\n",
       "      <td>4</td>\n",
       "      <td>4</td>\n",
       "    </tr>\n",
       "    <tr>\n",
       "      <th>2</th>\n",
       "      <td>D^3_3</td>\n",
       "      <td>3</td>\n",
       "      <td>3</td>\n",
       "      <td>3</td>\n",
       "    </tr>\n",
       "    <tr>\n",
       "      <th>3</th>\n",
       "      <td>D^5_4</td>\n",
       "      <td>8</td>\n",
       "      <td>8</td>\n",
       "      <td>8</td>\n",
       "    </tr>\n",
       "  </tbody>\n",
       "</table>\n",
       "</div>"
      ],
      "text/plain": [
       "  Circuit  c^nR_Y  cInc  cDec\n",
       "0   D^2_2       2     2     2\n",
       "1   D^3_2       4     4     4\n",
       "2   D^3_3       3     3     3\n",
       "3   D^5_4       8     8     8"
      ]
     },
     "execution_count": 14,
     "metadata": {},
     "output_type": "execute_result"
    }
   ],
   "source": [
    "jupyter_produce_counts(DecompositionTargets.NONE)"
   ]
  },
  {
   "cell_type": "markdown",
   "id": "2f01fe6a877878c6",
   "metadata": {},
   "source": [
    "### Adding the Toffoli Gate\n",
    "Assuming our Quantum Computer natively supports the Toffoli gate, we get the following counts:"
   ]
  },
  {
   "cell_type": "code",
   "execution_count": 15,
   "id": "8e0fe4c092f0071b",
   "metadata": {
    "ExecuteTime": {
     "end_time": "2024-12-03T16:01:10.705482Z",
     "start_time": "2024-12-03T16:01:10.699212Z"
    }
   },
   "outputs": [
    {
     "data": {
      "text/html": [
       "<div>\n",
       "<style scoped>\n",
       "    .dataframe tbody tr th:only-of-type {\n",
       "        vertical-align: middle;\n",
       "    }\n",
       "\n",
       "    .dataframe tbody tr th {\n",
       "        vertical-align: top;\n",
       "    }\n",
       "\n",
       "    .dataframe thead th {\n",
       "        text-align: right;\n",
       "    }\n",
       "</style>\n",
       "<table border=\"1\" class=\"dataframe\">\n",
       "  <thead>\n",
       "    <tr style=\"text-align: right;\">\n",
       "      <th></th>\n",
       "      <th>Circuit</th>\n",
       "      <th>X</th>\n",
       "      <th>cX</th>\n",
       "      <th>cR_Y</th>\n",
       "      <th>Toffoli</th>\n",
       "    </tr>\n",
       "  </thead>\n",
       "  <tbody>\n",
       "    <tr>\n",
       "      <th>0</th>\n",
       "      <td>D^2_2</td>\n",
       "      <td>16</td>\n",
       "      <td>6</td>\n",
       "      <td>2</td>\n",
       "      <td>4</td>\n",
       "    </tr>\n",
       "    <tr>\n",
       "      <th>1</th>\n",
       "      <td>D^3_2</td>\n",
       "      <td>32</td>\n",
       "      <td>12</td>\n",
       "      <td>4</td>\n",
       "      <td>8</td>\n",
       "    </tr>\n",
       "    <tr>\n",
       "      <th>2</th>\n",
       "      <td>D^3_3</td>\n",
       "      <td>20</td>\n",
       "      <td>8</td>\n",
       "      <td>3</td>\n",
       "      <td>6</td>\n",
       "    </tr>\n",
       "    <tr>\n",
       "      <th>3</th>\n",
       "      <td>D^5_4</td>\n",
       "      <td>88</td>\n",
       "      <td>28</td>\n",
       "      <td>8</td>\n",
       "      <td>48</td>\n",
       "    </tr>\n",
       "  </tbody>\n",
       "</table>\n",
       "</div>"
      ],
      "text/plain": [
       "  Circuit   X  cX  cR_Y  Toffoli\n",
       "0   D^2_2  16   6     2        4\n",
       "1   D^3_2  32  12     4        8\n",
       "2   D^3_3  20   8     3        6\n",
       "3   D^5_4  88  28     8       48"
      ]
     },
     "execution_count": 15,
     "metadata": {},
     "output_type": "execute_result"
    }
   ],
   "source": [
    "targets = DecompositionTargets.NONE\n",
    "for t in DecompositionTargets.ALL:\n",
    "    if t != DecompositionTargets.TOFFOLI:\n",
    "        targets |= t\n",
    "\n",
    "jupyter_produce_counts(targets)"
   ]
  },
  {
   "cell_type": "code",
   "execution_count": null,
   "id": "92e694ed-8b4c-4bf5-86ce-0e4cbe84b0d5",
   "metadata": {},
   "outputs": [],
   "source": []
  }
 ],
 "metadata": {
  "kernelspec": {
   "display_name": "Python 3 (ipykernel)",
   "language": "python",
   "name": "python3"
  },
  "language_info": {
   "codemirror_mode": {
    "name": "ipython",
    "version": 3
   },
   "file_extension": ".py",
   "mimetype": "text/x-python",
   "name": "python",
   "nbconvert_exporter": "python",
   "pygments_lexer": "ipython3",
   "version": "3.11.4"
  }
 },
 "nbformat": 4,
 "nbformat_minor": 5
}
